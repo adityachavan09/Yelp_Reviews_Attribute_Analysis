{
 "cells": [
  {
   "cell_type": "code",
   "execution_count": 1,
   "id": "701dd848",
   "metadata": {},
   "outputs": [],
   "source": [
    "import pandas as pd"
   ]
  },
  {
   "cell_type": "code",
   "execution_count": 3,
   "id": "bb3de9de",
   "metadata": {},
   "outputs": [],
   "source": [
    "yelp_data = pd.read_csv('final_df_3040_labels.csv', delimiter=',')"
   ]
  },
  {
   "cell_type": "code",
   "execution_count": 13,
   "id": "573caa9c",
   "metadata": {},
   "outputs": [],
   "source": [
    "test_data = yelp_data.sample(1000)"
   ]
  },
  {
   "cell_type": "code",
   "execution_count": 14,
   "id": "cc1e7c14",
   "metadata": {},
   "outputs": [],
   "source": [
    "# List of columns to clear\n",
    "columns_to_clear = ['Food Quality', 'Customer Service', 'Place', 'Menu_and_Pricing', 'Drinks', 'Time']\n",
    "\n",
    "# Clear the values in the specified columns for the test_data dataframe\n",
    "test_data[columns_to_clear] = None"
   ]
  },
  {
   "cell_type": "code",
   "execution_count": 15,
   "id": "4a8e7a48",
   "metadata": {},
   "outputs": [],
   "source": [
    "test_data.to_csv('gpt_test_set.csv', index=False)"
   ]
  },
  {
   "cell_type": "code",
   "execution_count": 16,
   "id": "b2edac30",
   "metadata": {},
   "outputs": [],
   "source": [
    "df_test = pd.read_csv('df_test1.csv')"
   ]
  },
  {
   "cell_type": "code",
   "execution_count": 21,
   "id": "3de582a4",
   "metadata": {},
   "outputs": [
    {
     "name": "stdout",
     "output_type": "stream",
     "text": [
      "Accuracy for Food Quality: 84.00%\n",
      "Accuracy for Customer Service: 67.00%\n",
      "Accuracy for Place: 47.00%\n",
      "Accuracy for Menu_and_Pricing: 51.00%\n",
      "Accuracy for Drinks: 71.00%\n",
      "Accuracy for Time: 80.00%\n",
      "Overall Accuracy: 80.00%\n"
     ]
    }
   ],
   "source": [
    "import pandas as pd\n",
    "\n",
    "# Assuming you have df_test and yelp_data DataFrames\n",
    "\n",
    "# Merge the DataFrames on 'review_id'\n",
    "merged_df = df_test.merge(yelp_data[['review_id', 'Food Quality', 'Customer Service', 'Place', 'Menu_and_Pricing', 'Drinks', 'Time']], on='review_id', how='inner')\n",
    "\n",
    "# Calculate accuracy for each aspect\n",
    "aspect_accuracies = {}\n",
    "aspects = ['Food Quality', 'Customer Service', 'Place', 'Menu_and_Pricing', 'Drinks', 'Time']\n",
    "\n",
    "for aspect in aspects:\n",
    "    correct_predictions = (merged_df[aspect + '_x'] == merged_df[aspect + '_y'])\n",
    "    accuracy = correct_predictions.mean()\n",
    "    aspect_accuracies[aspect] = accuracy\n",
    "\n",
    "# Calculate overall accuracy\n",
    "correct_overall_predictions = correct_predictions.tolist()\n",
    "overall_accuracy = correct_overall_predictions.count(True) / len(correct_overall_predictions)\n",
    "\n",
    "# Display accuracy for each aspect and overall accuracy\n",
    "for aspect, accuracy in aspect_accuracies.items():\n",
    "    print(f'Accuracy for {aspect}: {accuracy * 100:.2f}%')\n",
    "\n",
    "print(f'Overall Accuracy: {overall_accuracy * 100:.2f}%')\n"
   ]
  }
 ],
 "metadata": {
  "kernelspec": {
   "display_name": "Python 3 (ipykernel)",
   "language": "python",
   "name": "python3"
  },
  "language_info": {
   "codemirror_mode": {
    "name": "ipython",
    "version": 3
   },
   "file_extension": ".py",
   "mimetype": "text/x-python",
   "name": "python",
   "nbconvert_exporter": "python",
   "pygments_lexer": "ipython3",
   "version": "3.10.9"
  }
 },
 "nbformat": 4,
 "nbformat_minor": 5
}
