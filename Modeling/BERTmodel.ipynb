{
 "cells": [
  {
   "cell_type": "code",
   "execution_count": 2,
   "metadata": {
    "colab": {
     "base_uri": "https://localhost:8080/"
    },
    "id": "k264faXKPyTo",
    "outputId": "af41f70f-4153-457c-b584-264711fa3c98"
   },
   "outputs": [
    {
     "name": "stderr",
     "output_type": "stream",
     "text": [
      "Some weights of BertForSequenceClassification were not initialized from the model checkpoint at bert-base-uncased and are newly initialized: ['classifier.bias', 'classifier.weight']\n",
      "You should probably TRAIN this model on a down-stream task to be able to use it for predictions and inference.\n"
     ]
    },
    {
     "name": "stdout",
     "output_type": "stream",
     "text": [
      "Epoch 1/5 - Average Loss: 0.7189129896841221\n",
      "Epoch 2/5 - Average Loss: 0.5433106994186031\n",
      "Epoch 3/5 - Average Loss: 0.39105054485032026\n",
      "Epoch 4/5 - Average Loss: 0.2679235708818745\n",
      "Epoch 5/5 - Average Loss: 0.16235874236174455\n",
      "\n",
      "Classification Report:\n",
      "              precision    recall  f1-score   support\n",
      "\n",
      "        -1.0       0.70      0.49      0.57       101\n",
      "         0.0       0.35      0.46      0.40        84\n",
      "         1.0       0.87      0.88      0.87       424\n",
      "\n",
      "    accuracy                           0.76       609\n",
      "   macro avg       0.64      0.61      0.62       609\n",
      "weighted avg       0.77      0.76      0.76       609\n",
      "\n",
      "Accuracy: 0.7569786535303776\n"
     ]
    }
   ],
   "source": [
    "import pandas as pd\n",
    "from sklearn.model_selection import train_test_split\n",
    "from sklearn.preprocessing import LabelEncoder\n",
    "from torch.utils.data import DataLoader, TensorDataset\n",
    "from transformers import BertTokenizer, BertForSequenceClassification\n",
    "from sklearn.metrics import classification_report, accuracy_score\n",
    "import torch\n",
    "\n",
    "# Read your CSV file\n",
    "yelp_data = pd.read_csv('final_df_3040_labels.csv')\n",
    "\n",
    "# Define aspects and aspect_labels\n",
    "aspects = ['Food Quality', 'Customer Service', 'Place', 'Menu_and_Pricing', 'Drinks', 'Time']\n",
    "yelp_data[aspects] = yelp_data[aspects].fillna(0)\n",
    "# Instantiate BERT tokenizer\n",
    "tokenizer = BertTokenizer.from_pretrained('bert-base-uncased')\n",
    "\n",
    "# Encode labels\n",
    "label_encoder = LabelEncoder()\n",
    "yelp_data['aspect_label'] = label_encoder.fit_transform(yelp_data['Food Quality'])\n",
    "\n",
    "\n",
    "# Tokenize and encode the text data\n",
    "encoded_data = tokenizer(yelp_data['text'].tolist(), padding=True, truncation=True, return_tensors='pt')\n",
    "\n",
    "# Create PyTorch DataLoader\n",
    "dataset = TensorDataset(encoded_data['input_ids'], encoded_data['attention_mask'], torch.tensor(yelp_data['aspect_label'].values))\n",
    "train_size = int(0.8 * len(dataset))\n",
    "test_size = len(dataset) - train_size\n",
    "train_dataset, test_dataset = torch.utils.data.random_split(dataset, [train_size, test_size])\n",
    "\n",
    "train_loader = DataLoader(train_dataset, batch_size=4, shuffle=True)\n",
    "test_loader = DataLoader(test_dataset, batch_size=4, shuffle=False)\n",
    "\n",
    "# Assuming you have CUDA available for faster training\n",
    "device = torch.device(\"cuda\" if torch.cuda.is_available() else \"cpu\")\n",
    "\n",
    "# Instantiate BERT model for sequence classification\n",
    "model = BertForSequenceClassification.from_pretrained('bert-base-uncased', num_labels=len(label_encoder.classes_))\n",
    "model.to(device)\n",
    "\n",
    "# Define optimizer and loss function\n",
    "optimizer = torch.optim.AdamW(model.parameters(), lr=2e-5)\n",
    "criterion = torch.nn.CrossEntropyLoss()\n",
    "\n",
    "# Training loop\n",
    "epochs = 5  # You can adjust this\n",
    "for epoch in range(epochs):\n",
    "    model.train()\n",
    "    total_loss = 0.0\n",
    "\n",
    "    for batch in train_loader:\n",
    "        input_ids, attention_mask, labels = batch\n",
    "        input_ids, attention_mask, labels = input_ids.to(device), attention_mask.to(device), labels.to(device)\n",
    "\n",
    "        # Forward pass\n",
    "        outputs = model(input_ids, attention_mask=attention_mask, labels=labels)\n",
    "        loss = outputs.loss\n",
    "\n",
    "        # Backward pass\n",
    "        optimizer.zero_grad()\n",
    "        loss.backward()\n",
    "        optimizer.step()\n",
    "\n",
    "        total_loss += loss.item()\n",
    "\n",
    "    average_loss = total_loss / len(train_loader)\n",
    "    print(f\"Epoch {epoch + 1}/{epochs} - Average Loss: {average_loss}\")\n",
    "\n",
    "# Evaluation\n",
    "model.eval()\n",
    "all_predictions = []\n",
    "\n",
    "with torch.no_grad():\n",
    "    for batch in test_loader:\n",
    "        input_ids, attention_mask, labels = batch\n",
    "        input_ids, attention_mask, labels = input_ids.to(device), attention_mask.to(device), labels.to(device)\n",
    "\n",
    "        # Forward pass\n",
    "        outputs = model(input_ids, attention_mask=attention_mask)\n",
    "        predictions = torch.argmax(outputs.logits, dim=1)\n",
    "        all_predictions.extend(predictions.cpu().numpy())\n",
    "\n",
    "# Decode predictions to original labels\n",
    "predicted_labels = label_encoder.inverse_transform(all_predictions)\n",
    "\n",
    "# Decode true labels to original labels\n",
    "true_labels = label_encoder.inverse_transform(yelp_data['aspect_label'].values[test_dataset.indices])\n",
    "\n",
    "# Calculate metrics\n",
    "classification_rep = classification_report(true_labels, predicted_labels)\n",
    "accuracy = accuracy_score(true_labels, predicted_labels)\n",
    "\n",
    "print(f\"\\nClassification Report:\\n{classification_rep}\")\n",
    "print(f\"Accuracy: {accuracy}\")\n"
   ]
  },
  {
   "cell_type": "code",
   "execution_count": 3,
   "metadata": {
    "colab": {
     "base_uri": "https://localhost:8080/"
    },
    "id": "xr3hBqEquYDx",
    "outputId": "8158c438-44a6-46ce-bd42-8c5213269d4c"
   },
   "outputs": [
    {
     "name": "stdout",
     "output_type": "stream",
     "text": [
      "{'classification_report': '              precision    recall  f1-score   support\\n\\n        -1.0       0.70      0.49      0.57       101\\n         0.0       0.35      0.46      0.40        84\\n         1.0       0.87      0.88      0.87       424\\n\\n    accuracy                           0.76       609\\n   macro avg       0.64      0.61      0.62       609\\nweighted avg       0.77      0.76      0.76       609\\n', 'accuracy': 0.7569786535303776}\n"
     ]
    }
   ],
   "source": [
    "output_food_label = {\n",
    "    \"classification_report\": classification_rep,\n",
    "    \"accuracy\": accuracy\n",
    "}\n",
    "\n",
    "# Print or use the 'output' variable as needed\n",
    "print(output_food_label)\n"
   ]
  },
  {
   "cell_type": "code",
   "execution_count": 4,
   "metadata": {
    "colab": {
     "base_uri": "https://localhost:8080/"
    },
    "id": "FnivQmBIumP2",
    "outputId": "843cdf1b-dcdc-49e9-8be1-32a4bae75eb3"
   },
   "outputs": [
    {
     "name": "stderr",
     "output_type": "stream",
     "text": [
      "Some weights of BertForSequenceClassification were not initialized from the model checkpoint at bert-base-uncased and are newly initialized: ['classifier.bias', 'classifier.weight']\n",
      "You should probably TRAIN this model on a down-stream task to be able to use it for predictions and inference.\n"
     ]
    },
    {
     "name": "stdout",
     "output_type": "stream",
     "text": [
      "Epoch 1/5 - Average Loss: 0.7924425011540477\n",
      "Epoch 2/5 - Average Loss: 0.6165732506705427\n",
      "Epoch 3/5 - Average Loss: 0.48406659847214106\n",
      "Epoch 4/5 - Average Loss: 0.33612283841326024\n",
      "Epoch 5/5 - Average Loss: 0.18132686760346903\n",
      "\n",
      "Classification Report:\n",
      "              precision    recall  f1-score   support\n",
      "\n",
      "        -1.0       0.72      0.58      0.64        92\n",
      "         0.0       0.74      0.69      0.72       264\n",
      "         1.0       0.71      0.81      0.75       253\n",
      "\n",
      "    accuracy                           0.72       609\n",
      "   macro avg       0.72      0.69      0.70       609\n",
      "weighted avg       0.72      0.72      0.72       609\n",
      "\n",
      "Accuracy: 0.722495894909688\n"
     ]
    }
   ],
   "source": [
    "import pandas as pd\n",
    "from sklearn.model_selection import train_test_split\n",
    "from sklearn.preprocessing import LabelEncoder\n",
    "from torch.utils.data import DataLoader, TensorDataset\n",
    "from transformers import BertTokenizer, BertForSequenceClassification\n",
    "from sklearn.metrics import classification_report, accuracy_score\n",
    "import torch\n",
    "\n",
    "# Read your CSV file\n",
    "yelp_data = pd.read_csv('final_df_3040_labels.csv')\n",
    "\n",
    "# Define aspects and aspect_labels\n",
    "aspects = ['Food Quality', 'Customer Service', 'Place', 'Menu_and_Pricing', 'Drinks', 'Time']\n",
    "yelp_data[aspects] = yelp_data[aspects].fillna(0)\n",
    "# Instantiate BERT tokenizer\n",
    "tokenizer = BertTokenizer.from_pretrained('bert-base-uncased')\n",
    "\n",
    "# Encode labels\n",
    "label_encoder = LabelEncoder()\n",
    "yelp_data['aspect_label'] = label_encoder.fit_transform(yelp_data['Customer Service'])\n",
    "\n",
    "\n",
    "# Tokenize and encode the text data\n",
    "encoded_data = tokenizer(yelp_data['text'].tolist(), padding=True, truncation=True, return_tensors='pt')\n",
    "\n",
    "# Create PyTorch DataLoader\n",
    "dataset = TensorDataset(encoded_data['input_ids'], encoded_data['attention_mask'], torch.tensor(yelp_data['aspect_label'].values))\n",
    "train_size = int(0.8 * len(dataset))\n",
    "test_size = len(dataset) - train_size\n",
    "train_dataset, test_dataset = torch.utils.data.random_split(dataset, [train_size, test_size])\n",
    "\n",
    "train_loader = DataLoader(train_dataset, batch_size=4, shuffle=True)\n",
    "test_loader = DataLoader(test_dataset, batch_size=4, shuffle=False)\n",
    "\n",
    "# Assuming you have CUDA available for faster training\n",
    "device = torch.device(\"cuda\" if torch.cuda.is_available() else \"cpu\")\n",
    "\n",
    "# Instantiate BERT model for sequence classification\n",
    "model = BertForSequenceClassification.from_pretrained('bert-base-uncased', num_labels=len(label_encoder.classes_))\n",
    "model.to(device)\n",
    "\n",
    "# Define optimizer and loss function\n",
    "optimizer = torch.optim.AdamW(model.parameters(), lr=2e-5)\n",
    "criterion = torch.nn.CrossEntropyLoss()\n",
    "\n",
    "# Training loop\n",
    "epochs = 5  # You can adjust this\n",
    "for epoch in range(epochs):\n",
    "    model.train()\n",
    "    total_loss = 0.0\n",
    "\n",
    "    for batch in train_loader:\n",
    "        input_ids, attention_mask, labels = batch\n",
    "        input_ids, attention_mask, labels = input_ids.to(device), attention_mask.to(device), labels.to(device)\n",
    "\n",
    "        # Forward pass\n",
    "        outputs = model(input_ids, attention_mask=attention_mask, labels=labels)\n",
    "        loss = outputs.loss\n",
    "\n",
    "        # Backward pass\n",
    "        optimizer.zero_grad()\n",
    "        loss.backward()\n",
    "        optimizer.step()\n",
    "\n",
    "        total_loss += loss.item()\n",
    "\n",
    "    average_loss = total_loss / len(train_loader)\n",
    "    print(f\"Epoch {epoch + 1}/{epochs} - Average Loss: {average_loss}\")\n",
    "\n",
    "# Evaluation\n",
    "model.eval()\n",
    "all_predictions = []\n",
    "\n",
    "with torch.no_grad():\n",
    "    for batch in test_loader:\n",
    "        input_ids, attention_mask, labels = batch\n",
    "        input_ids, attention_mask, labels = input_ids.to(device), attention_mask.to(device), labels.to(device)\n",
    "\n",
    "        # Forward pass\n",
    "        outputs = model(input_ids, attention_mask=attention_mask)\n",
    "        predictions = torch.argmax(outputs.logits, dim=1)\n",
    "        all_predictions.extend(predictions.cpu().numpy())\n",
    "\n",
    "# Decode predictions to original labels\n",
    "predicted_labels = label_encoder.inverse_transform(all_predictions)\n",
    "\n",
    "# Decode true labels to original labels\n",
    "true_labels = label_encoder.inverse_transform(yelp_data['aspect_label'].values[test_dataset.indices])\n",
    "\n",
    "# Calculate metrics\n",
    "classification_rep = classification_report(true_labels, predicted_labels)\n",
    "accuracy = accuracy_score(true_labels, predicted_labels)\n",
    "\n",
    "print(f\"\\nClassification Report:\\n{classification_rep}\")\n",
    "print(f\"Accuracy: {accuracy}\")\n"
   ]
  },
  {
   "cell_type": "code",
   "execution_count": 5,
   "metadata": {
    "colab": {
     "base_uri": "https://localhost:8080/"
    },
    "id": "sQGfpXu-u1zI",
    "outputId": "44844666-54f7-4b36-a07c-40679b958f33"
   },
   "outputs": [
    {
     "name": "stdout",
     "output_type": "stream",
     "text": [
      "{'classification_report': '              precision    recall  f1-score   support\\n\\n        -1.0       0.72      0.58      0.64        92\\n         0.0       0.74      0.69      0.72       264\\n         1.0       0.71      0.81      0.75       253\\n\\n    accuracy                           0.72       609\\n   macro avg       0.72      0.69      0.70       609\\nweighted avg       0.72      0.72      0.72       609\\n', 'accuracy': 0.722495894909688}\n"
     ]
    }
   ],
   "source": [
    "output_service_label = {\n",
    "    \"classification_report\": classification_rep,\n",
    "    \"accuracy\": accuracy\n",
    "}\n",
    "\n",
    "# Print or use the 'output' variable as needed\n",
    "print(output_service_label)"
   ]
  },
  {
   "cell_type": "code",
   "execution_count": 6,
   "metadata": {
    "colab": {
     "base_uri": "https://localhost:8080/"
    },
    "id": "GcF502jyusL8",
    "outputId": "d003b7c3-8b04-4fae-bf15-9ef825ec3a38"
   },
   "outputs": [
    {
     "name": "stderr",
     "output_type": "stream",
     "text": [
      "Some weights of BertForSequenceClassification were not initialized from the model checkpoint at bert-base-uncased and are newly initialized: ['classifier.bias', 'classifier.weight']\n",
      "You should probably TRAIN this model on a down-stream task to be able to use it for predictions and inference.\n"
     ]
    },
    {
     "name": "stdout",
     "output_type": "stream",
     "text": [
      "Epoch 1/5 - Average Loss: 0.7351784642742968\n",
      "Epoch 2/5 - Average Loss: 0.5685245954784853\n",
      "Epoch 3/5 - Average Loss: 0.4035131071918997\n",
      "Epoch 4/5 - Average Loss: 0.24114387639001478\n",
      "Epoch 5/5 - Average Loss: 0.13090980647296963\n",
      "\n",
      "Classification Report:\n",
      "              precision    recall  f1-score   support\n",
      "\n",
      "        -1.0       0.31      0.43      0.36        30\n",
      "         0.0       0.84      0.75      0.79       417\n",
      "         1.0       0.55      0.66      0.60       162\n",
      "\n",
      "    accuracy                           0.71       609\n",
      "   macro avg       0.57      0.61      0.58       609\n",
      "weighted avg       0.74      0.71      0.72       609\n",
      "\n",
      "Accuracy: 0.7110016420361248\n"
     ]
    }
   ],
   "source": [
    "import pandas as pd\n",
    "from sklearn.model_selection import train_test_split\n",
    "from sklearn.preprocessing import LabelEncoder\n",
    "from torch.utils.data import DataLoader, TensorDataset\n",
    "from transformers import BertTokenizer, BertForSequenceClassification\n",
    "from sklearn.metrics import classification_report, accuracy_score\n",
    "import torch\n",
    "\n",
    "# Read your CSV file\n",
    "yelp_data = pd.read_csv('final_df_3040_labels.csv')\n",
    "\n",
    "# Define aspects and aspect_labels\n",
    "aspects = ['Food Quality', 'Customer Service', 'Place', 'Menu_and_Pricing', 'Drinks', 'Time']\n",
    "yelp_data[aspects] = yelp_data[aspects].fillna(0)\n",
    "# Instantiate BERT tokenizer\n",
    "tokenizer = BertTokenizer.from_pretrained('bert-base-uncased')\n",
    "\n",
    "# Encode labels\n",
    "label_encoder = LabelEncoder()\n",
    "yelp_data['aspect_label'] = label_encoder.fit_transform(yelp_data['Place'])\n",
    "\n",
    "\n",
    "# Tokenize and encode the text data\n",
    "encoded_data = tokenizer(yelp_data['text'].tolist(), padding=True, truncation=True, return_tensors='pt')\n",
    "\n",
    "# Create PyTorch DataLoader\n",
    "dataset = TensorDataset(encoded_data['input_ids'], encoded_data['attention_mask'], torch.tensor(yelp_data['aspect_label'].values))\n",
    "train_size = int(0.8 * len(dataset))\n",
    "test_size = len(dataset) - train_size\n",
    "train_dataset, test_dataset = torch.utils.data.random_split(dataset, [train_size, test_size])\n",
    "\n",
    "train_loader = DataLoader(train_dataset, batch_size=4, shuffle=True)\n",
    "test_loader = DataLoader(test_dataset, batch_size=4, shuffle=False)\n",
    "\n",
    "# Assuming you have CUDA available for faster training\n",
    "device = torch.device(\"cuda\" if torch.cuda.is_available() else \"cpu\")\n",
    "\n",
    "# Instantiate BERT model for sequence classification\n",
    "model = BertForSequenceClassification.from_pretrained('bert-base-uncased', num_labels=len(label_encoder.classes_))\n",
    "model.to(device)\n",
    "\n",
    "# Define optimizer and loss function\n",
    "optimizer = torch.optim.AdamW(model.parameters(), lr=2e-5)\n",
    "criterion = torch.nn.CrossEntropyLoss()\n",
    "\n",
    "# Training loop\n",
    "epochs = 5  # You can adjust this\n",
    "for epoch in range(epochs):\n",
    "    model.train()\n",
    "    total_loss = 0.0\n",
    "\n",
    "    for batch in train_loader:\n",
    "        input_ids, attention_mask, labels = batch\n",
    "        input_ids, attention_mask, labels = input_ids.to(device), attention_mask.to(device), labels.to(device)\n",
    "\n",
    "        # Forward pass\n",
    "        outputs = model(input_ids, attention_mask=attention_mask, labels=labels)\n",
    "        loss = outputs.loss\n",
    "\n",
    "        # Backward pass\n",
    "        optimizer.zero_grad()\n",
    "        loss.backward()\n",
    "        optimizer.step()\n",
    "\n",
    "        total_loss += loss.item()\n",
    "\n",
    "    average_loss = total_loss / len(train_loader)\n",
    "    print(f\"Epoch {epoch + 1}/{epochs} - Average Loss: {average_loss}\")\n",
    "\n",
    "# Evaluation\n",
    "model.eval()\n",
    "all_predictions = []\n",
    "\n",
    "with torch.no_grad():\n",
    "    for batch in test_loader:\n",
    "        input_ids, attention_mask, labels = batch\n",
    "        input_ids, attention_mask, labels = input_ids.to(device), attention_mask.to(device), labels.to(device)\n",
    "\n",
    "        # Forward pass\n",
    "        outputs = model(input_ids, attention_mask=attention_mask)\n",
    "        predictions = torch.argmax(outputs.logits, dim=1)\n",
    "        all_predictions.extend(predictions.cpu().numpy())\n",
    "\n",
    "# Decode predictions to original labels\n",
    "predicted_labels = label_encoder.inverse_transform(all_predictions)\n",
    "\n",
    "# Decode true labels to original labels\n",
    "true_labels = label_encoder.inverse_transform(yelp_data['aspect_label'].values[test_dataset.indices])\n",
    "\n",
    "# Calculate metrics\n",
    "classification_rep = classification_report(true_labels, predicted_labels)\n",
    "accuracy = accuracy_score(true_labels, predicted_labels)\n",
    "\n",
    "print(f\"\\nClassification Report:\\n{classification_rep}\")\n",
    "print(f\"Accuracy: {accuracy}\")\n"
   ]
  },
  {
   "cell_type": "code",
   "execution_count": 7,
   "metadata": {
    "colab": {
     "base_uri": "https://localhost:8080/"
    },
    "id": "h0NYUpn9u3g_",
    "outputId": "6a4b8056-71ca-487a-c47e-877728292b8c"
   },
   "outputs": [
    {
     "name": "stdout",
     "output_type": "stream",
     "text": [
      "{'classification_report': '              precision    recall  f1-score   support\\n\\n        -1.0       0.31      0.43      0.36        30\\n         0.0       0.84      0.75      0.79       417\\n         1.0       0.55      0.66      0.60       162\\n\\n    accuracy                           0.71       609\\n   macro avg       0.57      0.61      0.58       609\\nweighted avg       0.74      0.71      0.72       609\\n', 'accuracy': 0.7110016420361248}\n"
     ]
    }
   ],
   "source": [
    "output_place_label = {\n",
    "    \"classification_report\": classification_rep,\n",
    "    \"accuracy\": accuracy\n",
    "}\n",
    "\n",
    "# Print or use the 'output' variable as needed\n",
    "print(output_place_label)"
   ]
  },
  {
   "cell_type": "code",
   "execution_count": 8,
   "metadata": {
    "colab": {
     "base_uri": "https://localhost:8080/"
    },
    "id": "hyIAfMi9uvQS",
    "outputId": "c2b84fb6-0a7a-4509-c2d3-228a3277a02c"
   },
   "outputs": [
    {
     "name": "stderr",
     "output_type": "stream",
     "text": [
      "Some weights of BertForSequenceClassification were not initialized from the model checkpoint at bert-base-uncased and are newly initialized: ['classifier.bias', 'classifier.weight']\n",
      "You should probably TRAIN this model on a down-stream task to be able to use it for predictions and inference.\n"
     ]
    },
    {
     "name": "stdout",
     "output_type": "stream",
     "text": [
      "Epoch 1/5 - Average Loss: 0.7622175593485777\n",
      "Epoch 2/5 - Average Loss: 0.6234079110137934\n",
      "Epoch 3/5 - Average Loss: 0.48988270671496836\n",
      "Epoch 4/5 - Average Loss: 0.2843735671765821\n",
      "Epoch 5/5 - Average Loss: 0.13174210789755647\n",
      "\n",
      "Classification Report:\n",
      "              precision    recall  f1-score   support\n",
      "\n",
      "        -1.0       0.46      0.33      0.39        57\n",
      "         0.0       0.79      0.88      0.83       433\n",
      "         1.0       0.46      0.33      0.38       119\n",
      "\n",
      "    accuracy                           0.72       609\n",
      "   macro avg       0.57      0.51      0.53       609\n",
      "weighted avg       0.69      0.72      0.70       609\n",
      "\n",
      "Accuracy: 0.7208538587848933\n"
     ]
    }
   ],
   "source": [
    "import pandas as pd\n",
    "from sklearn.model_selection import train_test_split\n",
    "from sklearn.preprocessing import LabelEncoder\n",
    "from torch.utils.data import DataLoader, TensorDataset\n",
    "from transformers import BertTokenizer, BertForSequenceClassification\n",
    "from sklearn.metrics import classification_report, accuracy_score\n",
    "import torch\n",
    "\n",
    "# Read your CSV file\n",
    "yelp_data = pd.read_csv('final_df_3040_labels.csv')\n",
    "\n",
    "# Define aspects and aspect_labels\n",
    "aspects = ['Food Quality', 'Customer Service', 'Place', 'Menu_and_Pricing', 'Drinks', 'Time']\n",
    "yelp_data[aspects] = yelp_data[aspects].fillna(0)\n",
    "# Instantiate BERT tokenizer\n",
    "tokenizer = BertTokenizer.from_pretrained('bert-base-uncased')\n",
    "\n",
    "# Encode labels\n",
    "label_encoder = LabelEncoder()\n",
    "yelp_data['aspect_label'] = label_encoder.fit_transform(yelp_data['Menu_and_Pricing'])\n",
    "\n",
    "\n",
    "# Tokenize and encode the text data\n",
    "encoded_data = tokenizer(yelp_data['text'].tolist(), padding=True, truncation=True, return_tensors='pt')\n",
    "\n",
    "# Create PyTorch DataLoader\n",
    "dataset = TensorDataset(encoded_data['input_ids'], encoded_data['attention_mask'], torch.tensor(yelp_data['aspect_label'].values))\n",
    "train_size = int(0.8 * len(dataset))\n",
    "test_size = len(dataset) - train_size\n",
    "train_dataset, test_dataset = torch.utils.data.random_split(dataset, [train_size, test_size])\n",
    "\n",
    "train_loader = DataLoader(train_dataset, batch_size=4, shuffle=True)\n",
    "test_loader = DataLoader(test_dataset, batch_size=4, shuffle=False)\n",
    "\n",
    "# Assuming you have CUDA available for faster training\n",
    "device = torch.device(\"cuda\" if torch.cuda.is_available() else \"cpu\")\n",
    "\n",
    "# Instantiate BERT model for sequence classification\n",
    "model = BertForSequenceClassification.from_pretrained('bert-base-uncased', num_labels=len(label_encoder.classes_))\n",
    "model.to(device)\n",
    "\n",
    "# Define optimizer and loss function\n",
    "optimizer = torch.optim.AdamW(model.parameters(), lr=2e-5)\n",
    "criterion = torch.nn.CrossEntropyLoss()\n",
    "\n",
    "# Training loop\n",
    "epochs = 5  # You can adjust this\n",
    "for epoch in range(epochs):\n",
    "    model.train()\n",
    "    total_loss = 0.0\n",
    "\n",
    "    for batch in train_loader:\n",
    "        input_ids, attention_mask, labels = batch\n",
    "        input_ids, attention_mask, labels = input_ids.to(device), attention_mask.to(device), labels.to(device)\n",
    "\n",
    "        # Forward pass\n",
    "        outputs = model(input_ids, attention_mask=attention_mask, labels=labels)\n",
    "        loss = outputs.loss\n",
    "\n",
    "        # Backward pass\n",
    "        optimizer.zero_grad()\n",
    "        loss.backward()\n",
    "        optimizer.step()\n",
    "\n",
    "        total_loss += loss.item()\n",
    "\n",
    "    average_loss = total_loss / len(train_loader)\n",
    "    print(f\"Epoch {epoch + 1}/{epochs} - Average Loss: {average_loss}\")\n",
    "\n",
    "# Evaluation\n",
    "model.eval()\n",
    "all_predictions = []\n",
    "\n",
    "with torch.no_grad():\n",
    "    for batch in test_loader:\n",
    "        input_ids, attention_mask, labels = batch\n",
    "        input_ids, attention_mask, labels = input_ids.to(device), attention_mask.to(device), labels.to(device)\n",
    "\n",
    "        # Forward pass\n",
    "        outputs = model(input_ids, attention_mask=attention_mask)\n",
    "        predictions = torch.argmax(outputs.logits, dim=1)\n",
    "        all_predictions.extend(predictions.cpu().numpy())\n",
    "\n",
    "# Decode predictions to original labels\n",
    "predicted_labels = label_encoder.inverse_transform(all_predictions)\n",
    "\n",
    "# Decode true labels to original labels\n",
    "true_labels = label_encoder.inverse_transform(yelp_data['aspect_label'].values[test_dataset.indices])\n",
    "\n",
    "# Calculate metrics\n",
    "classification_rep = classification_report(true_labels, predicted_labels)\n",
    "accuracy = accuracy_score(true_labels, predicted_labels)\n",
    "\n",
    "print(f\"\\nClassification Report:\\n{classification_rep}\")\n",
    "print(f\"Accuracy: {accuracy}\")\n"
   ]
  },
  {
   "cell_type": "code",
   "execution_count": 9,
   "metadata": {
    "colab": {
     "base_uri": "https://localhost:8080/"
    },
    "id": "w1VEJdNhu4Ou",
    "outputId": "09655412-b521-4cf6-eda2-420467743c75"
   },
   "outputs": [
    {
     "name": "stdout",
     "output_type": "stream",
     "text": [
      "{'classification_report': '              precision    recall  f1-score   support\\n\\n        -1.0       0.46      0.33      0.39        57\\n         0.0       0.79      0.88      0.83       433\\n         1.0       0.46      0.33      0.38       119\\n\\n    accuracy                           0.72       609\\n   macro avg       0.57      0.51      0.53       609\\nweighted avg       0.69      0.72      0.70       609\\n', 'accuracy': 0.7208538587848933}\n"
     ]
    }
   ],
   "source": [
    "output_menu_label = {\n",
    "    \"classification_report\": classification_rep,\n",
    "    \"accuracy\": accuracy\n",
    "}\n",
    "\n",
    "# Print or use the 'output' variable as needed\n",
    "print(output_menu_label)"
   ]
  },
  {
   "cell_type": "code",
   "execution_count": 10,
   "metadata": {
    "colab": {
     "base_uri": "https://localhost:8080/"
    },
    "id": "mHwFn3tnuwFs",
    "outputId": "a5ae34e3-76da-412a-88b6-e82628d2caff"
   },
   "outputs": [
    {
     "name": "stderr",
     "output_type": "stream",
     "text": [
      "Some weights of BertForSequenceClassification were not initialized from the model checkpoint at bert-base-uncased and are newly initialized: ['classifier.bias', 'classifier.weight']\n",
      "You should probably TRAIN this model on a down-stream task to be able to use it for predictions and inference.\n"
     ]
    },
    {
     "name": "stdout",
     "output_type": "stream",
     "text": [
      "Epoch 1/5 - Average Loss: 0.5527456403451502\n",
      "Epoch 2/5 - Average Loss: 0.45584591126684193\n",
      "Epoch 3/5 - Average Loss: 0.35790968711269266\n",
      "Epoch 4/5 - Average Loss: 0.23602244390284854\n",
      "Epoch 5/5 - Average Loss: 0.12119005875427227\n",
      "\n",
      "Classification Report:\n",
      "              precision    recall  f1-score   support\n",
      "\n",
      "        -1.0       0.11      0.15      0.12        13\n",
      "         0.0       0.87      0.91      0.89       490\n",
      "         1.0       0.55      0.40      0.46       106\n",
      "\n",
      "    accuracy                           0.81       609\n",
      "   macro avg       0.51      0.49      0.49       609\n",
      "weighted avg       0.80      0.81      0.80       609\n",
      "\n",
      "Accuracy: 0.80623973727422\n"
     ]
    }
   ],
   "source": [
    "import pandas as pd\n",
    "from sklearn.model_selection import train_test_split\n",
    "from sklearn.preprocessing import LabelEncoder\n",
    "from torch.utils.data import DataLoader, TensorDataset\n",
    "from transformers import BertTokenizer, BertForSequenceClassification\n",
    "from sklearn.metrics import classification_report, accuracy_score\n",
    "import torch\n",
    "\n",
    "# Read your CSV file\n",
    "yelp_data = pd.read_csv('final_df_3040_labels.csv')\n",
    "\n",
    "# Define aspects and aspect_labels\n",
    "aspects = ['Food Quality', 'Customer Service', 'Place', 'Menu_and_Pricing', 'Drinks', 'Time']\n",
    "yelp_data[aspects] = yelp_data[aspects].fillna(0)\n",
    "# Instantiate BERT tokenizer\n",
    "tokenizer = BertTokenizer.from_pretrained('bert-base-uncased')\n",
    "\n",
    "# Encode labels\n",
    "label_encoder = LabelEncoder()\n",
    "yelp_data['aspect_label'] = label_encoder.fit_transform(yelp_data['Drinks'])\n",
    "\n",
    "\n",
    "# Tokenize and encode the text data\n",
    "encoded_data = tokenizer(yelp_data['text'].tolist(), padding=True, truncation=True, return_tensors='pt')\n",
    "\n",
    "# Create PyTorch DataLoader\n",
    "dataset = TensorDataset(encoded_data['input_ids'], encoded_data['attention_mask'], torch.tensor(yelp_data['aspect_label'].values))\n",
    "train_size = int(0.8 * len(dataset))\n",
    "test_size = len(dataset) - train_size\n",
    "train_dataset, test_dataset = torch.utils.data.random_split(dataset, [train_size, test_size])\n",
    "\n",
    "train_loader = DataLoader(train_dataset, batch_size=4, shuffle=True)\n",
    "test_loader = DataLoader(test_dataset, batch_size=4, shuffle=False)\n",
    "\n",
    "# Assuming you have CUDA available for faster training\n",
    "device = torch.device(\"cuda\" if torch.cuda.is_available() else \"cpu\")\n",
    "\n",
    "# Instantiate BERT model for sequence classification\n",
    "model = BertForSequenceClassification.from_pretrained('bert-base-uncased', num_labels=len(label_encoder.classes_))\n",
    "model.to(device)\n",
    "\n",
    "# Define optimizer and loss function\n",
    "optimizer = torch.optim.AdamW(model.parameters(), lr=2e-5)\n",
    "criterion = torch.nn.CrossEntropyLoss()\n",
    "\n",
    "# Training loop\n",
    "epochs = 5  # You can adjust this\n",
    "for epoch in range(epochs):\n",
    "    model.train()\n",
    "    total_loss = 0.0\n",
    "\n",
    "    for batch in train_loader:\n",
    "        input_ids, attention_mask, labels = batch\n",
    "        input_ids, attention_mask, labels = input_ids.to(device), attention_mask.to(device), labels.to(device)\n",
    "\n",
    "        # Forward pass\n",
    "        outputs = model(input_ids, attention_mask=attention_mask, labels=labels)\n",
    "        loss = outputs.loss\n",
    "\n",
    "        # Backward pass\n",
    "        optimizer.zero_grad()\n",
    "        loss.backward()\n",
    "        optimizer.step()\n",
    "\n",
    "        total_loss += loss.item()\n",
    "\n",
    "    average_loss = total_loss / len(train_loader)\n",
    "    print(f\"Epoch {epoch + 1}/{epochs} - Average Loss: {average_loss}\")\n",
    "\n",
    "# Evaluation\n",
    "model.eval()\n",
    "all_predictions = []\n",
    "\n",
    "with torch.no_grad():\n",
    "    for batch in test_loader:\n",
    "        input_ids, attention_mask, labels = batch\n",
    "        input_ids, attention_mask, labels = input_ids.to(device), attention_mask.to(device), labels.to(device)\n",
    "\n",
    "        # Forward pass\n",
    "        outputs = model(input_ids, attention_mask=attention_mask)\n",
    "        predictions = torch.argmax(outputs.logits, dim=1)\n",
    "        all_predictions.extend(predictions.cpu().numpy())\n",
    "\n",
    "# Decode predictions to original labels\n",
    "predicted_labels = label_encoder.inverse_transform(all_predictions)\n",
    "\n",
    "# Decode true labels to original labels\n",
    "true_labels = label_encoder.inverse_transform(yelp_data['aspect_label'].values[test_dataset.indices])\n",
    "\n",
    "# Calculate metrics\n",
    "classification_rep = classification_report(true_labels, predicted_labels)\n",
    "accuracy = accuracy_score(true_labels, predicted_labels)\n",
    "\n",
    "print(f\"\\nClassification Report:\\n{classification_rep}\")\n",
    "print(f\"Accuracy: {accuracy}\")\n"
   ]
  },
  {
   "cell_type": "code",
   "execution_count": 11,
   "metadata": {
    "colab": {
     "base_uri": "https://localhost:8080/"
    },
    "id": "nqLUidA0u5UD",
    "outputId": "ba0834ee-5683-4a69-d5bb-9b27b64d819d"
   },
   "outputs": [
    {
     "name": "stdout",
     "output_type": "stream",
     "text": [
      "{'classification_report': '              precision    recall  f1-score   support\\n\\n        -1.0       0.11      0.15      0.12        13\\n         0.0       0.87      0.91      0.89       490\\n         1.0       0.55      0.40      0.46       106\\n\\n    accuracy                           0.81       609\\n   macro avg       0.51      0.49      0.49       609\\nweighted avg       0.80      0.81      0.80       609\\n', 'accuracy': 0.80623973727422}\n"
     ]
    }
   ],
   "source": [
    "output_drinks_label = {\n",
    "    \"classification_report\": classification_rep,\n",
    "    \"accuracy\": accuracy\n",
    "}\n",
    "\n",
    "# Print or use the 'output' variable as needed\n",
    "print(output_drinks_label)"
   ]
  },
  {
   "cell_type": "code",
   "execution_count": 12,
   "metadata": {
    "colab": {
     "base_uri": "https://localhost:8080/"
    },
    "id": "jL9yqOW4uwm4",
    "outputId": "11cf21ad-f556-44ff-c05c-53fe842c7094"
   },
   "outputs": [
    {
     "name": "stderr",
     "output_type": "stream",
     "text": [
      "Some weights of BertForSequenceClassification were not initialized from the model checkpoint at bert-base-uncased and are newly initialized: ['classifier.bias', 'classifier.weight']\n",
      "You should probably TRAIN this model on a down-stream task to be able to use it for predictions and inference.\n"
     ]
    },
    {
     "name": "stdout",
     "output_type": "stream",
     "text": [
      "Epoch 1/5 - Average Loss: 0.597950702585121\n",
      "Epoch 2/5 - Average Loss: 0.48312131401720304\n",
      "Epoch 3/5 - Average Loss: 0.37670249774232384\n",
      "Epoch 4/5 - Average Loss: 0.23784559338517205\n",
      "Epoch 5/5 - Average Loss: 0.1256749249007614\n",
      "\n",
      "Classification Report:\n",
      "              precision    recall  f1-score   support\n",
      "\n",
      "        -1.0       0.43      0.45      0.44        77\n",
      "         0.0       0.88      0.87      0.88       492\n",
      "         1.0       0.45      0.47      0.46        40\n",
      "\n",
      "    accuracy                           0.79       609\n",
      "   macro avg       0.59      0.60      0.59       609\n",
      "weighted avg       0.80      0.79      0.80       609\n",
      "\n",
      "Accuracy: 0.7931034482758621\n"
     ]
    }
   ],
   "source": [
    "import pandas as pd\n",
    "from sklearn.model_selection import train_test_split\n",
    "from sklearn.preprocessing import LabelEncoder\n",
    "from torch.utils.data import DataLoader, TensorDataset\n",
    "from transformers import BertTokenizer, BertForSequenceClassification\n",
    "from sklearn.metrics import classification_report, accuracy_score\n",
    "import torch\n",
    "\n",
    "# Read your CSV file\n",
    "yelp_data = pd.read_csv('final_df_3040_labels.csv')\n",
    "\n",
    "# Define aspects and aspect_labels\n",
    "aspects = ['Food Quality', 'Customer Service', 'Place', 'Menu_and_Pricing', 'Drinks', 'Time']\n",
    "yelp_data[aspects] = yelp_data[aspects].fillna(0)\n",
    "# Instantiate BERT tokenizer\n",
    "tokenizer = BertTokenizer.from_pretrained('bert-base-uncased')\n",
    "\n",
    "# Encode labels\n",
    "label_encoder = LabelEncoder()\n",
    "yelp_data['aspect_label'] = label_encoder.fit_transform(yelp_data['Time'])\n",
    "\n",
    "\n",
    "# Tokenize and encode the text data\n",
    "encoded_data = tokenizer(yelp_data['text'].tolist(), padding=True, truncation=True, return_tensors='pt')\n",
    "\n",
    "# Create PyTorch DataLoader\n",
    "dataset = TensorDataset(encoded_data['input_ids'], encoded_data['attention_mask'], torch.tensor(yelp_data['aspect_label'].values))\n",
    "train_size = int(0.8 * len(dataset))\n",
    "test_size = len(dataset) - train_size\n",
    "train_dataset, test_dataset = torch.utils.data.random_split(dataset, [train_size, test_size])\n",
    "\n",
    "train_loader = DataLoader(train_dataset, batch_size=4, shuffle=True)\n",
    "test_loader = DataLoader(test_dataset, batch_size=4, shuffle=False)\n",
    "\n",
    "# Assuming you have CUDA available for faster training\n",
    "device = torch.device(\"cuda\" if torch.cuda.is_available() else \"cpu\")\n",
    "\n",
    "# Instantiate BERT model for sequence classification\n",
    "model = BertForSequenceClassification.from_pretrained('bert-base-uncased', num_labels=len(label_encoder.classes_))\n",
    "model.to(device)\n",
    "\n",
    "# Define optimizer and loss function\n",
    "optimizer = torch.optim.AdamW(model.parameters(), lr=2e-5)\n",
    "criterion = torch.nn.CrossEntropyLoss()\n",
    "\n",
    "# Training loop\n",
    "epochs = 5  # You can adjust this\n",
    "for epoch in range(epochs):\n",
    "    model.train()\n",
    "    total_loss = 0.0\n",
    "\n",
    "    for batch in train_loader:\n",
    "        input_ids, attention_mask, labels = batch\n",
    "        input_ids, attention_mask, labels = input_ids.to(device), attention_mask.to(device), labels.to(device)\n",
    "\n",
    "        # Forward pass\n",
    "        outputs = model(input_ids, attention_mask=attention_mask, labels=labels)\n",
    "        loss = outputs.loss\n",
    "\n",
    "        # Backward pass\n",
    "        optimizer.zero_grad()\n",
    "        loss.backward()\n",
    "        optimizer.step()\n",
    "\n",
    "        total_loss += loss.item()\n",
    "\n",
    "    average_loss = total_loss / len(train_loader)\n",
    "    print(f\"Epoch {epoch + 1}/{epochs} - Average Loss: {average_loss}\")\n",
    "\n",
    "# Evaluation\n",
    "model.eval()\n",
    "all_predictions = []\n",
    "\n",
    "with torch.no_grad():\n",
    "    for batch in test_loader:\n",
    "        input_ids, attention_mask, labels = batch\n",
    "        input_ids, attention_mask, labels = input_ids.to(device), attention_mask.to(device), labels.to(device)\n",
    "\n",
    "        # Forward pass\n",
    "        outputs = model(input_ids, attention_mask=attention_mask)\n",
    "        predictions = torch.argmax(outputs.logits, dim=1)\n",
    "        all_predictions.extend(predictions.cpu().numpy())\n",
    "\n",
    "# Decode predictions to original labels\n",
    "predicted_labels = label_encoder.inverse_transform(all_predictions)\n",
    "\n",
    "# Decode true labels to original labels\n",
    "true_labels = label_encoder.inverse_transform(yelp_data['aspect_label'].values[test_dataset.indices])\n",
    "\n",
    "# Calculate metrics\n",
    "classification_rep = classification_report(true_labels, predicted_labels)\n",
    "accuracy = accuracy_score(true_labels, predicted_labels)\n",
    "\n",
    "print(f\"\\nClassification Report:\\n{classification_rep}\")\n",
    "print(f\"Accuracy: {accuracy}\")\n"
   ]
  },
  {
   "cell_type": "code",
   "execution_count": 13,
   "metadata": {
    "colab": {
     "base_uri": "https://localhost:8080/"
    },
    "id": "Ij6TCOgRu6Li",
    "outputId": "94e76e67-0982-4bff-ab1a-d13b46ac81df"
   },
   "outputs": [
    {
     "name": "stdout",
     "output_type": "stream",
     "text": [
      "{'classification_report': '              precision    recall  f1-score   support\\n\\n        -1.0       0.43      0.45      0.44        77\\n         0.0       0.88      0.87      0.88       492\\n         1.0       0.45      0.47      0.46        40\\n\\n    accuracy                           0.79       609\\n   macro avg       0.59      0.60      0.59       609\\nweighted avg       0.80      0.79      0.80       609\\n', 'accuracy': 0.7931034482758621}\n"
     ]
    }
   ],
   "source": [
    "output_time_label = {\n",
    "    \"classification_report\": classification_rep,\n",
    "    \"accuracy\": accuracy\n",
    "}\n",
    "\n",
    "# Print or use the 'output' variable as needed\n",
    "print(output_time_label)"
   ]
  },
  {
   "cell_type": "code",
   "execution_count": 16,
   "metadata": {},
   "outputs": [
    {
     "name": "stdout",
     "output_type": "stream",
     "text": [
      "       Precision  Recall  F1-Score  Support\n",
      "Class                                      \n",
      "-1.0        0.70    0.49      0.57      101\n",
      "0.0         0.35    0.46      0.40       84\n",
      "1.0         0.87    0.88      0.87      424\n"
     ]
    }
   ],
   "source": [
    "import pandas as pd\n",
    "\n",
    "# Your dictionary\n",
    "data_dict = {\n",
    "    'classification_report': '              precision    recall  f1-score   support\\n\\n        -1.0       0.70      0.49      0.57       101\\n         0.0       0.35      0.46      0.40        84\\n         1.0       0.87      0.88      0.87       424\\n\\n    accuracy                           0.76       609\\n   macro avg       0.64      0.61      0.62       609\\nweighted avg       0.77      0.76      0.76       609\\n',\n",
    "    'accuracy': 0.7569786535303776\n",
    "}\n",
    "\n",
    "# Extract values from classification report\n",
    "lines = data_dict['classification_report'].split('\\n')\n",
    "class_metrics = [line.split() for line in lines if line.strip() != ''][1:-3]\n",
    "\n",
    "# Create DataFrame\n",
    "df_food = pd.DataFrame(class_metrics, columns=['Class', 'Precision', 'Recall', 'F1-Score', 'Support'])\n",
    "df_food = df_food.set_index('Class')\n",
    "\n",
    "# Convert columns to numeric\n",
    "df_food[['Precision', 'Recall', 'F1-Score', 'Support']] = df_food[['Precision', 'Recall', 'F1-Score', 'Support']].apply(pd.to_numeric)\n",
    "\n",
    "# Display DataFrame\n",
    "print(df_food)\n"
   ]
  },
  {
   "cell_type": "code",
   "execution_count": 18,
   "metadata": {},
   "outputs": [
    {
     "name": "stdout",
     "output_type": "stream",
     "text": [
      "       Precision  Recall  F1-Score  Support\n",
      "Class                                      \n",
      "-1.0        0.72    0.58      0.64       92\n",
      "0.0         0.74    0.69      0.72      264\n",
      "1.0         0.71    0.81      0.75      253\n"
     ]
    }
   ],
   "source": [
    "data_dict = {'classification_report': '              precision    recall  f1-score   support\\n\\n        -1.0       0.72      0.58      0.64        92\\n         0.0       0.74      0.69      0.72       264\\n         1.0       0.71      0.81      0.75       253\\n\\n    accuracy                           0.72       609\\n   macro avg       0.72      0.69      0.70       609\\nweighted avg       0.72      0.72      0.72       609\\n', 'accuracy': 0.722495894909688}\n",
    "\n",
    "# Extract values from classification report\n",
    "lines = data_dict['classification_report'].split('\\n')\n",
    "class_metrics = [line.split() for line in lines if line.strip() != ''][1:-3]\n",
    "\n",
    "# Create DataFrame\n",
    "df_service = pd.DataFrame(class_metrics, columns=['Class', 'Precision', 'Recall', 'F1-Score', 'Support'])\n",
    "df_service = df_service.set_index('Class')\n",
    "\n",
    "# Convert columns to numeric\n",
    "df_service[['Precision', 'Recall', 'F1-Score', 'Support']] = df_service[['Precision', 'Recall', 'F1-Score', 'Support']].apply(pd.to_numeric)\n",
    "\n",
    "# Display DataFrame\n",
    "print(df_service)"
   ]
  },
  {
   "cell_type": "code",
   "execution_count": 19,
   "metadata": {},
   "outputs": [
    {
     "name": "stdout",
     "output_type": "stream",
     "text": [
      "       Precision  Recall  F1-Score  Support\n",
      "Class                                      \n",
      "-1.0        0.31    0.43      0.36       30\n",
      "0.0         0.84    0.75      0.79      417\n",
      "1.0         0.55    0.66      0.60      162\n"
     ]
    }
   ],
   "source": [
    "data_dict = {'classification_report': '              precision    recall  f1-score   support\\n\\n        -1.0       0.31      0.43      0.36        30\\n         0.0       0.84      0.75      0.79       417\\n         1.0       0.55      0.66      0.60       162\\n\\n    accuracy                           0.71       609\\n   macro avg       0.57      0.61      0.58       609\\nweighted avg       0.74      0.71      0.72       609\\n', 'accuracy': 0.7110016420361248}\n",
    "        \n",
    "# Extract values from classification report\n",
    "lines = data_dict['classification_report'].split('\\n')\n",
    "class_metrics = [line.split() for line in lines if line.strip() != ''][1:-3]\n",
    "\n",
    "# Create DataFrame\n",
    "df_place = pd.DataFrame(class_metrics, columns=['Class', 'Precision', 'Recall', 'F1-Score', 'Support'])\n",
    "df_place = df_place.set_index('Class')\n",
    "\n",
    "# Convert columns to numeric\n",
    "df_place[['Precision', 'Recall', 'F1-Score', 'Support']] = df_place[['Precision', 'Recall', 'F1-Score', 'Support']].apply(pd.to_numeric)\n",
    "\n",
    "# Display DataFrame\n",
    "print(df_place)"
   ]
  },
  {
   "cell_type": "code",
   "execution_count": 20,
   "metadata": {},
   "outputs": [
    {
     "name": "stdout",
     "output_type": "stream",
     "text": [
      "       Precision  Recall  F1-Score  Support\n",
      "Class                                      \n",
      "-1.0        0.46    0.33      0.39       57\n",
      "0.0         0.79    0.88      0.83      433\n",
      "1.0         0.46    0.33      0.38      119\n"
     ]
    }
   ],
   "source": [
    "data_dict = {'classification_report': '              precision    recall  f1-score   support\\n\\n        -1.0       0.46      0.33      0.39        57\\n         0.0       0.79      0.88      0.83       433\\n         1.0       0.46      0.33      0.38       119\\n\\n    accuracy                           0.72       609\\n   macro avg       0.57      0.51      0.53       609\\nweighted avg       0.69      0.72      0.70       609\\n', 'accuracy': 0.7208538587848933}\n",
    "  \n",
    "# Extract values from classification report\n",
    "lines = data_dict['classification_report'].split('\\n')\n",
    "class_metrics = [line.split() for line in lines if line.strip() != ''][1:-3]\n",
    "\n",
    "# Create DataFrame\n",
    "df_menu = pd.DataFrame(class_metrics, columns=['Class', 'Precision', 'Recall', 'F1-Score', 'Support'])\n",
    "df_menu = df_menu.set_index('Class')\n",
    "\n",
    "# Convert columns to numeric\n",
    "df_menu[['Precision', 'Recall', 'F1-Score', 'Support']] = df_menu[['Precision', 'Recall', 'F1-Score', 'Support']].apply(pd.to_numeric)\n",
    "\n",
    "# Display DataFrame\n",
    "print(df_menu)"
   ]
  },
  {
   "cell_type": "code",
   "execution_count": 21,
   "metadata": {},
   "outputs": [
    {
     "name": "stdout",
     "output_type": "stream",
     "text": [
      "       Precision  Recall  F1-Score  Support\n",
      "Class                                      \n",
      "-1.0        0.11    0.15      0.12       13\n",
      "0.0         0.87    0.91      0.89      490\n",
      "1.0         0.55    0.40      0.46      106\n"
     ]
    }
   ],
   "source": [
    "data_dict = {'classification_report': '              precision    recall  f1-score   support\\n\\n        -1.0       0.11      0.15      0.12        13\\n         0.0       0.87      0.91      0.89       490\\n         1.0       0.55      0.40      0.46       106\\n\\n    accuracy                           0.81       609\\n   macro avg       0.51      0.49      0.49       609\\nweighted avg       0.80      0.81      0.80       609\\n', 'accuracy': 0.80623973727422}\n",
    "\n",
    "# Extract values from classification report\n",
    "lines = data_dict['classification_report'].split('\\n')\n",
    "class_metrics = [line.split() for line in lines if line.strip() != ''][1:-3]\n",
    "\n",
    "# Create DataFrame\n",
    "df_drinks = pd.DataFrame(class_metrics, columns=['Class', 'Precision', 'Recall', 'F1-Score', 'Support'])\n",
    "df_drinks = df_drinks.set_index('Class')\n",
    "\n",
    "# Convert columns to numeric\n",
    "df_drinks[['Precision', 'Recall', 'F1-Score', 'Support']] = df_drinks[['Precision', 'Recall', 'F1-Score', 'Support']].apply(pd.to_numeric)\n",
    "\n",
    "# Display DataFrame\n",
    "print(df_drinks)"
   ]
  },
  {
   "cell_type": "code",
   "execution_count": 22,
   "metadata": {},
   "outputs": [
    {
     "name": "stdout",
     "output_type": "stream",
     "text": [
      "       Precision  Recall  F1-Score  Support\n",
      "Class                                      \n",
      "-1.0        0.43    0.45      0.44       77\n",
      "0.0         0.88    0.87      0.88      492\n",
      "1.0         0.45    0.47      0.46       40\n"
     ]
    }
   ],
   "source": [
    "data_dict = {'classification_report': '              precision    recall  f1-score   support\\n\\n        -1.0       0.43      0.45      0.44        77\\n         0.0       0.88      0.87      0.88       492\\n         1.0       0.45      0.47      0.46        40\\n\\n    accuracy                           0.79       609\\n   macro avg       0.59      0.60      0.59       609\\nweighted avg       0.80      0.79      0.80       609\\n', 'accuracy': 0.7931034482758621}\n",
    "# Extract values from classification report\n",
    "lines = data_dict['classification_report'].split('\\n')\n",
    "class_metrics = [line.split() for line in lines if line.strip() != ''][1:-3]\n",
    "\n",
    "# Create DataFrame\n",
    "df_time = pd.DataFrame(class_metrics, columns=['Class', 'Precision', 'Recall', 'F1-Score', 'Support'])\n",
    "df_time = df_time.set_index('Class')\n",
    "\n",
    "# Convert columns to numeric\n",
    "df_time[['Precision', 'Recall', 'F1-Score', 'Support']] = df_time[['Precision', 'Recall', 'F1-Score', 'Support']].apply(pd.to_numeric)\n",
    "\n",
    "# Display DataFrame\n",
    "print(df_time)"
   ]
  },
  {
   "cell_type": "code",
   "execution_count": 32,
   "metadata": {},
   "outputs": [
    {
     "data": {
      "image/png": "[encoded data removed]",
      "text/plain": [
       "<Figure size 1277x600 with 1 Axes>"
      ]
     },
     "metadata": {},
     "output_type": "display_data"
    }
   ],
   "source": [
    "import pandas as pd\n",
    "import matplotlib.pyplot as plt\n",
    "import seaborn as sns\n",
    "\n",
    "# Example DataFrames\n",
    "dataframes = [df_time, df_service, df_place, df_menu, df_drinks]\n",
    "aspect_names = ['Time', 'Service', 'Place', 'Menu', 'Drinks']\n",
    "\n",
    "# Prepare data for plotting\n",
    "combined_df = pd.DataFrame()\n",
    "\n",
    "for df, aspect in zip(dataframes, aspect_names):\n",
    "    # Reshape the dataframe to long format\n",
    "    temp_df = df.reset_index().melt(id_vars='Class', var_name='Metric', value_name='Value')\n",
    "    temp_df['Aspect'] = aspect  # Add the aspect name\n",
    "    combined_df = pd.concat([combined_df, temp_df], ignore_index=True)\n",
    "\n",
    "# Filtering for Precision Metric\n",
    "precision_df = combined_df[combined_df['Metric'] == 'Precision']\n",
    "\n",
    "# Plotting\n",
    "g = sns.catplot(x='Aspect', y='Value', hue='Class', data=precision_df, kind='bar', palette='coolwarm', height=6, aspect=2)\n",
    "g.set_axis_labels(\"Aspect\", \"Precision Value\")\n",
    "g.set_titles(\"Precision by Aspect and Sentiment Class\")\n",
    "plt.title('Precision Across Aspects for Each Sentiment Class')\n",
    "plt.show()"
   ]
  },
  {
   "cell_type": "code",
   "execution_count": 33,
   "metadata": {},
   "outputs": [
    {
     "data": {
      "image/png": "[encoded data removed]",
      "text/plain": [
       "<Figure size 1277x600 with 1 Axes>"
      ]
     },
     "metadata": {},
     "output_type": "display_data"
    }
   ],
   "source": [
    "import pandas as pd\n",
    "import matplotlib.pyplot as plt\n",
    "import seaborn as sns\n",
    "\n",
    "# Example DataFrames\n",
    "dataframes = [df_time, df_service, df_place, df_menu, df_drinks]\n",
    "aspect_names = ['Time', 'Service', 'Place', 'Menu', 'Drinks']\n",
    "\n",
    "# Prepare data for plotting\n",
    "combined_df = pd.DataFrame()\n",
    "\n",
    "for df, aspect in zip(dataframes, aspect_names):\n",
    "    # Reshape the dataframe to long format\n",
    "    temp_df = df.reset_index().melt(id_vars='Class', var_name='Metric', value_name='Value')\n",
    "    temp_df['Aspect'] = aspect  # Add the aspect name\n",
    "    combined_df = pd.concat([combined_df, temp_df], ignore_index=True)\n",
    "\n",
    "# Filtering for Recall Metric\n",
    "recall_df = combined_df[combined_df['Metric'] == 'Recall']\n",
    "\n",
    "# Plotting\n",
    "g = sns.catplot(x='Aspect', y='Value', hue='Class', data=recall_df, kind='bar', palette='coolwarm', height=6, aspect=2)\n",
    "g.set_axis_labels(\"Aspect\", \"Recall Value\")\n",
    "g.set_titles(\"Recall by Aspect and Sentiment Class\")\n",
    "plt.title('Recall Across Aspects for Each Sentiment Class')\n",
    "plt.show()\n"
   ]
  },
  {
   "cell_type": "code",
   "execution_count": 35,
   "metadata": {},
   "outputs": [
    {
     "data": {
      "image/png": "[encoded data removed]",
      "text/plain": [
       "<Figure size 1277x600 with 1 Axes>"
      ]
     },
     "metadata": {},
     "output_type": "display_data"
    }
   ],
   "source": [
    "import pandas as pd\n",
    "import matplotlib.pyplot as plt\n",
    "import seaborn as sns\n",
    "\n",
    "# Example DataFrames\n",
    "dataframes = [df_time, df_service, df_place, df_menu, df_drinks]\n",
    "aspect_names = ['Time', 'Service', 'Place', 'Menu', 'Drinks']\n",
    "\n",
    "# Prepare data for plotting\n",
    "combined_df = pd.DataFrame()\n",
    "\n",
    "for df, aspect in zip(dataframes, aspect_names):\n",
    "    # Reshape the dataframe to long format\n",
    "    temp_df = df.reset_index().melt(id_vars='Class', var_name='Metric', value_name='Value')\n",
    "    temp_df['Aspect'] = aspect  # Add the aspect name\n",
    "    combined_df = pd.concat([combined_df, temp_df], ignore_index=True)\n",
    "\n",
    "# Filtering for Recall Metric\n",
    "recall_df = combined_df[combined_df['Metric'] == 'F1-Score']\n",
    "\n",
    "# Plotting\n",
    "g = sns.catplot(x='Aspect', y='Value', hue='Class', data=recall_df, kind='bar', palette='coolwarm', height=6, aspect=2)\n",
    "g.set_axis_labels(\"Aspect\", \"F1-Score Value\")\n",
    "g.set_titles(\"F1-Score by Aspect and Sentiment Class\")\n",
    "plt.title('F1-Score Across Aspects for Each Sentiment Class')\n",
    "plt.show()\n"
   ]
  },
  {
   "cell_type": "code",
   "execution_count": null,
   "metadata": {},
   "outputs": [],
   "source": []
  }
 ],
 "metadata": {
  "accelerator": "GPU",
  "colab": {
   "gpuType": "T4",
   "machine_shape": "hm",
   "provenance": []
  },
  "kernelspec": {
   "display_name": "Python 3 (ipykernel)",
   "language": "python",
   "name": "python3"
  },
  "language_info": {
   "codemirror_mode": {
    "name": "ipython",
    "version": 3
   },
   "file_extension": ".py",
   "mimetype": "text/x-python",
   "name": "python",
   "nbconvert_exporter": "python",
   "pygments_lexer": "ipython3",
   "version": "3.11.4"
  }
 },
 "nbformat": 4,
 "nbformat_minor": 1
}
